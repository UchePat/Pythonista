{
  "cells": [
    {
      "cell_type": "code",
      "execution_count": null,
      "metadata": {
        "id": "qb8sbs-IHLmW"
      },
      "outputs": [],
      "source": [
        "import pandas as pd\n",
        "import numpy as np\n",
        "import pickle\n",
        "import matplotlib.pyplot as plt\n",
        "from scipy import stats\n",
        "import tensorflow as tf\n",
        "import seaborn as sns\n",
        "from pylab import rcParams\n",
        "from sklearn.model_selection import train_test_split\n",
        "from sklearn.preprocessing import MinMaxScaler\n",
        "from sklearn.linear_model import LogisticRegression\n",
        "from sklearn.manifold import TSNE\n",
        "from sklearn.metrics import classification_report, accuracy_score\n",
        "from keras.models import Model, load_model\n",
        "from keras.layers import Input, Dense\n",
        "from keras.callbacks import ModelCheckpoint, TensorBoard\n",
        "from keras import regularizers, Sequential\n",
        "%matplotlib inline\n"
      ]
    },
    {
      "cell_type": "code",
      "execution_count": null,
      "metadata": {},
      "outputs": [],
      "source": [
        "# Lets set some default global parameters\n",
        "sns.set(style='whitegrid', palette='muted', font_scale=1.5)\n",
        "\n",
        "rcParams['figure.figsize'] = 14, 8\n",
        "\n",
        "RANDOM_SEED = 42\n",
        "\n",
        "LABELS = [\"Normal\", \"Fraud\"]"
      ]
    },
    {
      "cell_type": "code",
      "execution_count": null,
      "metadata": {
        "colab": {
          "base_uri": "https://localhost:8080/",
          "height": 235
        },
        "id": "E7TFxlhEfyVB",
        "outputId": "7e107b90-67bb-40d8-b3e9-ae6de626d9ee"
      },
      "outputs": [],
      "source": [
        "df = pd.read_csv(\"creditcard.csv\")\n"
      ]
    },
    {
      "cell_type": "code",
      "execution_count": null,
      "metadata": {},
      "outputs": [],
      "source": [
        "df.head()"
      ]
    },
    {
      "cell_type": "code",
      "execution_count": null,
      "metadata": {
        "colab": {
          "base_uri": "https://localhost:8080/"
        },
        "id": "2H9XlkSmf245",
        "outputId": "86f368f2-67fd-4d66-f800-fa4820d57716"
      },
      "outputs": [],
      "source": [
        "df.shape"
      ]
    },
    {
      "cell_type": "code",
      "execution_count": null,
      "metadata": {
        "colab": {
          "base_uri": "https://localhost:8080/"
        },
        "id": "e8wtTC5Wf5w5",
        "outputId": "ab0276e1-11db-4097-f0e3-72a757441878"
      },
      "outputs": [],
      "source": [
        "# Check for NAs in all columns using True/False\n",
        "df.isnull().values.any()"
      ]
    },
    {
      "cell_type": "markdown",
      "metadata": {
        "id": "a8M5Coruh7w1"
      },
      "source": [
        "### Analyzing response variable - class (Fraud and Non-Fraud)"
      ]
    },
    {
      "cell_type": "code",
      "execution_count": 12,
      "metadata": {
        "colab": {
          "base_uri": "https://localhost:8080/",
          "height": 764
        },
        "id": "Q-k4TCH9f8X4",
        "outputId": "2e9e769e-e659-4b6e-f91e-095eb4b54f45"
      },
      "outputs": [
        {
          "data": {
            "text/plain": [
              "Class\n",
              "0    284315\n",
              "1       492\n",
              "Name: count, dtype: int64"
            ]
          },
          "execution_count": 12,
          "metadata": {},
          "output_type": "execute_result"
        }
      ],
      "source": [
        "# count_classes = pd.value_counts(df['Class'], sort = True)   # pd.value_counts is deprecated\n",
        "count_classes = pd.Series(df['Class']).value_counts(sort = True)\n",
        "count_classes\n",
        "# We can see there are way more legitimate transactions than fraudulent ones\n"
      ]
    },
    {
      "cell_type": "code",
      "execution_count": null,
      "metadata": {},
      "outputs": [],
      "source": [
        "# Visualizing using Bar chart\n",
        "count_classes.plot(kind = 'bar', rot=0)\n",
        "plt.title(\"Transaction class distribution\")\n",
        "plt.xticks(range(2), LABELS)\n",
        "plt.xlabel(\"Class\")\n",
        "plt.ylabel(\"Frequency\")"
      ]
    },
    {
      "cell_type": "code",
      "execution_count": 15,
      "metadata": {
        "colab": {
          "base_uri": "https://localhost:8080/"
        },
        "id": "L3PGuMrSgAPo",
        "outputId": "1e13ee7a-85eb-4965-8f23-2605d4cbfa54"
      },
      "outputs": [
        {
          "name": "stdout",
          "output_type": "stream",
          "text": [
            "(492, 31)\n",
            "(284315, 31)\n"
          ]
        }
      ],
      "source": [
        "# Lets create separate dataframes for each unique values in Class column\n",
        "frauds = df[df.Class == 1]\n",
        "\n",
        "normal = df[df.Class == 0]\n",
        "\n",
        "print(frauds.shape)\n",
        "print(normal.shape)"
      ]
    },
    {
      "cell_type": "code",
      "execution_count": 16,
      "metadata": {},
      "outputs": [
        {
          "data": {
            "text/html": [
              "<div>\n",
              "<style scoped>\n",
              "    .dataframe tbody tr th:only-of-type {\n",
              "        vertical-align: middle;\n",
              "    }\n",
              "\n",
              "    .dataframe tbody tr th {\n",
              "        vertical-align: top;\n",
              "    }\n",
              "\n",
              "    .dataframe thead th {\n",
              "        text-align: right;\n",
              "    }\n",
              "</style>\n",
              "<table border=\"1\" class=\"dataframe\">\n",
              "  <thead>\n",
              "    <tr style=\"text-align: right;\">\n",
              "      <th></th>\n",
              "      <th>Time</th>\n",
              "      <th>V1</th>\n",
              "      <th>V2</th>\n",
              "      <th>V3</th>\n",
              "      <th>V4</th>\n",
              "      <th>V5</th>\n",
              "      <th>V6</th>\n",
              "      <th>V7</th>\n",
              "      <th>V8</th>\n",
              "      <th>V9</th>\n",
              "      <th>...</th>\n",
              "      <th>V21</th>\n",
              "      <th>V22</th>\n",
              "      <th>V23</th>\n",
              "      <th>V24</th>\n",
              "      <th>V25</th>\n",
              "      <th>V26</th>\n",
              "      <th>V27</th>\n",
              "      <th>V28</th>\n",
              "      <th>Amount</th>\n",
              "      <th>Class</th>\n",
              "    </tr>\n",
              "  </thead>\n",
              "  <tbody>\n",
              "    <tr>\n",
              "      <th>541</th>\n",
              "      <td>406.0</td>\n",
              "      <td>-2.312227</td>\n",
              "      <td>1.951992</td>\n",
              "      <td>-1.609851</td>\n",
              "      <td>3.997906</td>\n",
              "      <td>-0.522188</td>\n",
              "      <td>-1.426545</td>\n",
              "      <td>-2.537387</td>\n",
              "      <td>1.391657</td>\n",
              "      <td>-2.770089</td>\n",
              "      <td>...</td>\n",
              "      <td>0.517232</td>\n",
              "      <td>-0.035049</td>\n",
              "      <td>-0.465211</td>\n",
              "      <td>0.320198</td>\n",
              "      <td>0.044519</td>\n",
              "      <td>0.177840</td>\n",
              "      <td>0.261145</td>\n",
              "      <td>-0.143276</td>\n",
              "      <td>0.00</td>\n",
              "      <td>1</td>\n",
              "    </tr>\n",
              "    <tr>\n",
              "      <th>623</th>\n",
              "      <td>472.0</td>\n",
              "      <td>-3.043541</td>\n",
              "      <td>-3.157307</td>\n",
              "      <td>1.088463</td>\n",
              "      <td>2.288644</td>\n",
              "      <td>1.359805</td>\n",
              "      <td>-1.064823</td>\n",
              "      <td>0.325574</td>\n",
              "      <td>-0.067794</td>\n",
              "      <td>-0.270953</td>\n",
              "      <td>...</td>\n",
              "      <td>0.661696</td>\n",
              "      <td>0.435477</td>\n",
              "      <td>1.375966</td>\n",
              "      <td>-0.293803</td>\n",
              "      <td>0.279798</td>\n",
              "      <td>-0.145362</td>\n",
              "      <td>-0.252773</td>\n",
              "      <td>0.035764</td>\n",
              "      <td>529.00</td>\n",
              "      <td>1</td>\n",
              "    </tr>\n",
              "    <tr>\n",
              "      <th>4920</th>\n",
              "      <td>4462.0</td>\n",
              "      <td>-2.303350</td>\n",
              "      <td>1.759247</td>\n",
              "      <td>-0.359745</td>\n",
              "      <td>2.330243</td>\n",
              "      <td>-0.821628</td>\n",
              "      <td>-0.075788</td>\n",
              "      <td>0.562320</td>\n",
              "      <td>-0.399147</td>\n",
              "      <td>-0.238253</td>\n",
              "      <td>...</td>\n",
              "      <td>-0.294166</td>\n",
              "      <td>-0.932391</td>\n",
              "      <td>0.172726</td>\n",
              "      <td>-0.087330</td>\n",
              "      <td>-0.156114</td>\n",
              "      <td>-0.542628</td>\n",
              "      <td>0.039566</td>\n",
              "      <td>-0.153029</td>\n",
              "      <td>239.93</td>\n",
              "      <td>1</td>\n",
              "    </tr>\n",
              "    <tr>\n",
              "      <th>6108</th>\n",
              "      <td>6986.0</td>\n",
              "      <td>-4.397974</td>\n",
              "      <td>1.358367</td>\n",
              "      <td>-2.592844</td>\n",
              "      <td>2.679787</td>\n",
              "      <td>-1.128131</td>\n",
              "      <td>-1.706536</td>\n",
              "      <td>-3.496197</td>\n",
              "      <td>-0.248778</td>\n",
              "      <td>-0.247768</td>\n",
              "      <td>...</td>\n",
              "      <td>0.573574</td>\n",
              "      <td>0.176968</td>\n",
              "      <td>-0.436207</td>\n",
              "      <td>-0.053502</td>\n",
              "      <td>0.252405</td>\n",
              "      <td>-0.657488</td>\n",
              "      <td>-0.827136</td>\n",
              "      <td>0.849573</td>\n",
              "      <td>59.00</td>\n",
              "      <td>1</td>\n",
              "    </tr>\n",
              "    <tr>\n",
              "      <th>6329</th>\n",
              "      <td>7519.0</td>\n",
              "      <td>1.234235</td>\n",
              "      <td>3.019740</td>\n",
              "      <td>-4.304597</td>\n",
              "      <td>4.732795</td>\n",
              "      <td>3.624201</td>\n",
              "      <td>-1.357746</td>\n",
              "      <td>1.713445</td>\n",
              "      <td>-0.496358</td>\n",
              "      <td>-1.282858</td>\n",
              "      <td>...</td>\n",
              "      <td>-0.379068</td>\n",
              "      <td>-0.704181</td>\n",
              "      <td>-0.656805</td>\n",
              "      <td>-1.632653</td>\n",
              "      <td>1.488901</td>\n",
              "      <td>0.566797</td>\n",
              "      <td>-0.010016</td>\n",
              "      <td>0.146793</td>\n",
              "      <td>1.00</td>\n",
              "      <td>1</td>\n",
              "    </tr>\n",
              "  </tbody>\n",
              "</table>\n",
              "<p>5 rows × 31 columns</p>\n",
              "</div>"
            ],
            "text/plain": [
              "        Time        V1        V2        V3        V4        V5        V6  \\\n",
              "541    406.0 -2.312227  1.951992 -1.609851  3.997906 -0.522188 -1.426545   \n",
              "623    472.0 -3.043541 -3.157307  1.088463  2.288644  1.359805 -1.064823   \n",
              "4920  4462.0 -2.303350  1.759247 -0.359745  2.330243 -0.821628 -0.075788   \n",
              "6108  6986.0 -4.397974  1.358367 -2.592844  2.679787 -1.128131 -1.706536   \n",
              "6329  7519.0  1.234235  3.019740 -4.304597  4.732795  3.624201 -1.357746   \n",
              "\n",
              "            V7        V8        V9  ...       V21       V22       V23  \\\n",
              "541  -2.537387  1.391657 -2.770089  ...  0.517232 -0.035049 -0.465211   \n",
              "623   0.325574 -0.067794 -0.270953  ...  0.661696  0.435477  1.375966   \n",
              "4920  0.562320 -0.399147 -0.238253  ... -0.294166 -0.932391  0.172726   \n",
              "6108 -3.496197 -0.248778 -0.247768  ...  0.573574  0.176968 -0.436207   \n",
              "6329  1.713445 -0.496358 -1.282858  ... -0.379068 -0.704181 -0.656805   \n",
              "\n",
              "           V24       V25       V26       V27       V28  Amount  Class  \n",
              "541   0.320198  0.044519  0.177840  0.261145 -0.143276    0.00      1  \n",
              "623  -0.293803  0.279798 -0.145362 -0.252773  0.035764  529.00      1  \n",
              "4920 -0.087330 -0.156114 -0.542628  0.039566 -0.153029  239.93      1  \n",
              "6108 -0.053502  0.252405 -0.657488 -0.827136  0.849573   59.00      1  \n",
              "6329 -1.632653  1.488901  0.566797 -0.010016  0.146793    1.00      1  \n",
              "\n",
              "[5 rows x 31 columns]"
            ]
          },
          "execution_count": 16,
          "metadata": {},
          "output_type": "execute_result"
        }
      ],
      "source": [
        "frauds.head(5)"
      ]
    },
    {
      "cell_type": "markdown",
      "metadata": {
        "id": "sKzO1BuZh21k"
      },
      "source": [
        "## Checking the amount of money involved in each kind of transaction"
      ]
    },
    {
      "cell_type": "code",
      "execution_count": 17,
      "metadata": {
        "colab": {
          "base_uri": "https://localhost:8080/"
        },
        "id": "1QvqnlMSgGFQ",
        "outputId": "2fa911c1-67b5-4cf9-8c7c-ee420881e695"
      },
      "outputs": [
        {
          "data": {
            "text/plain": [
              "count     492.000000\n",
              "mean      122.211321\n",
              "std       256.683288\n",
              "min         0.000000\n",
              "25%         1.000000\n",
              "50%         9.250000\n",
              "75%       105.890000\n",
              "max      2125.870000\n",
              "Name: Amount, dtype: float64"
            ]
          },
          "execution_count": 17,
          "metadata": {},
          "output_type": "execute_result"
        }
      ],
      "source": [
        "# Fraud transactions\n",
        "frauds.Amount.describe()"
      ]
    },
    {
      "cell_type": "code",
      "execution_count": 18,
      "metadata": {
        "colab": {
          "base_uri": "https://localhost:8080/"
        },
        "id": "rBcLFw_ygI5D",
        "outputId": "b3b3377d-5712-4df4-b252-2efa15822aa5"
      },
      "outputs": [
        {
          "data": {
            "text/plain": [
              "count    284315.000000\n",
              "mean         88.291022\n",
              "std         250.105092\n",
              "min           0.000000\n",
              "25%           5.650000\n",
              "50%          22.000000\n",
              "75%          77.050000\n",
              "max       25691.160000\n",
              "Name: Amount, dtype: float64"
            ]
          },
          "execution_count": 18,
          "metadata": {},
          "output_type": "execute_result"
        }
      ],
      "source": [
        "# Non-fraud transactions\n",
        "normal.Amount.describe()"
      ]
    },
    {
      "cell_type": "markdown",
      "metadata": {
        "id": "cGNh1dmJhxqc"
      },
      "source": [
        "#### Analyze Distribution of values in of Amount column in both dataframes using Histogram"
      ]
    },
    {
      "cell_type": "code",
      "execution_count": 19,
      "metadata": {
        "colab": {
          "base_uri": "https://localhost:8080/",
          "height": 798
        },
        "id": "8_vlJyi_gLsT",
        "outputId": "5606001d-8773-4121-a3bc-582868e831cc"
      },
      "outputs": [
        {
          "data": {
            "image/png": "[encoded data removed]",
            "text/plain": [
              "<Figure size 1400x800 with 2 Axes>"
            ]
          },
          "metadata": {},
          "output_type": "display_data"
        }
      ],
      "source": [
        "f, (ax1, ax2) = plt.subplots(2, 1, sharex=True)\n",
        "f.suptitle('Amount per transaction by class')\n",
        "\n",
        "bins = 50\n",
        "\n",
        "ax1.hist(frauds.Amount, bins = bins)   # 1st histogram\n",
        "ax1.set_title('Fraud')\n",
        "\n",
        "ax2.hist(normal.Amount, bins = bins)   # 2nd histogram\n",
        "ax2.set_title('Normal')\n",
        "\n",
        "plt.xlabel('Amount ($)')\n",
        "plt.ylabel('Number of Transactions')\n",
        "plt.xlim((0, 20000))\n",
        "plt.yscale('log')\n",
        "plt.show()"
      ]
    },
    {
      "cell_type": "markdown",
      "metadata": {
        "id": "Szo948oHhrw1"
      },
      "source": [
        "### Plotting time of transaction to check for correlations using Scatterplot"
      ]
    },
    {
      "cell_type": "code",
      "execution_count": 20,
      "metadata": {
        "colab": {
          "base_uri": "https://localhost:8080/",
          "height": 798
        },
        "id": "_3XXptfygPuz",
        "outputId": "27c340af-3393-4e98-d5ab-16b2edcfea54"
      },
      "outputs": [
        {
          "data": {
            "image/png": "[encoded data removed]",
            "text/plain": [
              "<Figure size 1400x800 with 2 Axes>"
            ]
          },
          "metadata": {},
          "output_type": "display_data"
        }
      ],
      "source": [
        "f, (ax1, ax2) = plt.subplots(2, 1, sharex=True)\n",
        "f.suptitle('Time of transaction vs Amount by class')\n",
        "\n",
        "ax1.scatter(frauds.Time, frauds.Amount)\n",
        "ax1.set_title('Fraud')\n",
        "\n",
        "ax2.scatter(normal.Time, normal.Amount)\n",
        "ax2.set_title('Normal')\n",
        "\n",
        "plt.xlabel('Time (in Seconds)')\n",
        "plt.ylabel('Amount')\n",
        "plt.show()"
      ]
    },
    {
      "cell_type": "code",
      "execution_count": 21,
      "metadata": {
        "id": "fK3EHtq_gTEb"
      },
      "outputs": [],
      "source": [
        "data = df.drop(['Time'], axis=1)   # remove d stated column"
      ]
    },
    {
      "cell_type": "markdown",
      "metadata": {
        "id": "2BOrHlnnhnLV"
      },
      "source": [
        "## Scaling only Amount column using StandardScaler"
      ]
    },
    {
      "cell_type": "code",
      "execution_count": 22,
      "metadata": {
        "id": "kBCoxOo5gV4L"
      },
      "outputs": [],
      "source": [
        "from sklearn.preprocessing import StandardScaler\n",
        "\n",
        "data['Amount'] = StandardScaler().fit_transform(data['Amount'].values.reshape(-1, 1))"
      ]
    },
    {
      "cell_type": "markdown",
      "metadata": {
        "id": "bV4FvTmsheCF"
      },
      "source": [
        "## Building the model"
      ]
    },
    {
      "cell_type": "code",
      "execution_count": 23,
      "metadata": {},
      "outputs": [],
      "source": [
        "# Lets create separate dataframes for each unique values in Class column\n",
        "non_fraud = data[data['Class'] == 0] #.sample(1000)\n",
        "\n",
        "fraud = data[data['Class'] == 1]"
      ]
    },
    {
      "cell_type": "code",
      "execution_count": 24,
      "metadata": {},
      "outputs": [
        {
          "name": "stdout",
          "output_type": "stream",
          "text": [
            "(492, 30)\n",
            "(284315, 30)\n"
          ]
        }
      ],
      "source": [
        "print(fraud.shape)\n",
        "print(non_fraud.shape)"
      ]
    },
    {
      "cell_type": "code",
      "execution_count": 26,
      "metadata": {
        "colab": {
          "base_uri": "https://localhost:8080/"
        },
        "id": "jxDHcM7TgYYn",
        "outputId": "cefdfadc-195e-46da-d5bb-24a68ef9da3f"
      },
      "outputs": [
        {
          "data": {
            "text/plain": [
              "(284807, 30)"
            ]
          },
          "execution_count": 26,
          "metadata": {},
          "output_type": "execute_result"
        }
      ],
      "source": [
        "# Join both dataframes together and use only a sample % of d entire data rather than d entire data\n",
        "df = non_fraud._append(fraud).sample(frac=1).reset_index(drop=True)\n",
        "df.shape"
      ]
    },
    {
      "cell_type": "code",
      "execution_count": 27,
      "metadata": {},
      "outputs": [],
      "source": [
        "# Define response and predictors\n",
        "X = df.drop(['Class'], axis = 1).values    # removes d stated column\n",
        "\n",
        "Y = df[\"Class\"].values"
      ]
    },
    {
      "cell_type": "markdown",
      "metadata": {
        "id": "5X-0eofDhaSF"
      },
      "source": [
        "## Spliting the data into 80% training and 20% testing"
      ]
    },
    {
      "cell_type": "code",
      "execution_count": 28,
      "metadata": {
        "colab": {
          "base_uri": "https://localhost:8080/"
        },
        "id": "UE3gZ-5QgazG",
        "outputId": "654022f9-5e75-442c-e287-4a48d1c2cc1b"
      },
      "outputs": [
        {
          "data": {
            "text/plain": [
              "(227451, 29)"
            ]
          },
          "execution_count": 28,
          "metadata": {},
          "output_type": "execute_result"
        }
      ],
      "source": [
        "X_train, X_test = train_test_split(data, test_size=0.2, random_state=RANDOM_SEED)\n",
        "\n",
        "# New dataframes\n",
        "X_train_fraud = X_train[X_train.Class == 1]\n",
        "X_train = X_train[X_train.Class == 0]\n",
        "X_train = X_train.drop(['Class'], axis=1)\n",
        "\n",
        "y_test = X_test['Class']\n",
        "X_test = X_test.drop(['Class'], axis=1)\n",
        "\n",
        "X_train = X_train.values\n",
        "X_test = X_test.values\n",
        "\n",
        "X_train.shape"
      ]
    },
    {
      "cell_type": "markdown",
      "metadata": {
        "id": "QCo3fvcOhWF-"
      },
      "source": [
        "## Autoencoder model"
      ]
    },
    {
      "cell_type": "code",
      "execution_count": 29,
      "metadata": {
        "id": "gO1jRaZ2gdw3"
      },
      "outputs": [],
      "source": [
        "# input layer\n",
        "input_layer = Input(shape=(X.shape[1],))\n",
        "\n",
        "## encoding part\n",
        "encoded = Dense(100, activation='tanh', activity_regularizer=regularizers.l1(10e-5))(input_layer)\n",
        "encoded = Dense(50, activation='relu')(encoded)\n",
        "\n",
        "## decoding part\n",
        "decoded = Dense(50, activation='tanh')(encoded)\n",
        "decoded = Dense(100, activation='tanh')(decoded)\n",
        "\n",
        "## output layer\n",
        "output_layer = Dense(X.shape[1], activation='relu')(decoded)"
      ]
    },
    {
      "cell_type": "markdown",
      "metadata": {
        "id": "XOxc9OHphScG"
      },
      "source": [
        "## Training the credit card fraud detection model"
      ]
    },
    {
      "cell_type": "code",
      "execution_count": 30,
      "metadata": {
        "id": "68oaFYUsggZO"
      },
      "outputs": [],
      "source": [
        "autoencoder = Model(input_layer, output_layer)\n",
        "\n",
        "autoencoder.compile(optimizer=\"adadelta\", loss=\"mse\")"
      ]
    },
    {
      "cell_type": "markdown",
      "metadata": {
        "id": "_Sh5PXevhN4Y"
      },
      "source": [
        "## Scaling the values"
      ]
    },
    {
      "cell_type": "code",
      "execution_count": 31,
      "metadata": {},
      "outputs": [],
      "source": [
        "x = data.drop([\"Class\"], axis=1)\n",
        "\n",
        "y = data[\"Class\"].values"
      ]
    },
    {
      "cell_type": "code",
      "execution_count": 32,
      "metadata": {
        "colab": {
          "base_uri": "https://localhost:8080/"
        },
        "id": "It70xmN0gjQu",
        "outputId": "36288e4b-8285-4efe-9e2b-aa93588b934d"
      },
      "outputs": [
        {
          "name": "stdout",
          "output_type": "stream",
          "text": [
            "Epoch 1/10\n",
            "7/7 [==============================] - 16s 297ms/step - loss: 0.2476 - val_loss: 0.2466\n",
            "Epoch 2/10\n",
            "7/7 [==============================] - 0s 67ms/step - loss: 0.2472 - val_loss: 0.2462\n",
            "Epoch 3/10\n",
            "7/7 [==============================] - 1s 76ms/step - loss: 0.2468 - val_loss: 0.2457\n",
            "Epoch 4/10\n",
            "7/7 [==============================] - 0s 59ms/step - loss: 0.2463 - val_loss: 0.2453\n",
            "Epoch 5/10\n",
            "7/7 [==============================] - 0s 69ms/step - loss: 0.2459 - val_loss: 0.2448\n",
            "Epoch 6/10\n",
            "7/7 [==============================] - 0s 61ms/step - loss: 0.2454 - val_loss: 0.2444\n",
            "Epoch 7/10\n",
            "7/7 [==============================] - 0s 65ms/step - loss: 0.2450 - val_loss: 0.2439\n",
            "Epoch 8/10\n",
            "7/7 [==============================] - 0s 69ms/step - loss: 0.2445 - val_loss: 0.2434\n",
            "Epoch 9/10\n",
            "7/7 [==============================] - 0s 55ms/step - loss: 0.2440 - val_loss: 0.2430\n",
            "Epoch 10/10\n",
            "7/7 [==============================] - 1s 204ms/step - loss: 0.2435 - val_loss: 0.2425\n"
          ]
        }
      ],
      "source": [
        "x_scale = MinMaxScaler().fit_transform(x.values)\n",
        "\n",
        "x_norm, x_fraud = x_scale[y == 0], x_scale[y == 1]\n",
        "\n",
        "autoencoder.fit(x_norm[0:2000], x_norm[0:2000], \n",
        "                batch_size = 256, epochs = 10, \n",
        "                shuffle = True, validation_split = 0.20);"
      ]
    },
    {
      "cell_type": "markdown",
      "metadata": {
        "id": "jCvxAzJjhIz-"
      },
      "source": [
        "# Obtain the Hidden Representation"
      ]
    },
    {
      "cell_type": "code",
      "execution_count": 33,
      "metadata": {
        "id": "vKEwY6Nlgoen"
      },
      "outputs": [],
      "source": [
        "hidden_representation = Sequential()\n",
        "\n",
        "hidden_representation.add(autoencoder.layers[0])\n",
        "hidden_representation.add(autoencoder.layers[1])\n",
        "hidden_representation.add(autoencoder.layers[2])"
      ]
    },
    {
      "cell_type": "markdown",
      "metadata": {
        "id": "w2v_637LhFXn"
      },
      "source": [
        "## Model Prediction"
      ]
    },
    {
      "cell_type": "code",
      "execution_count": 34,
      "metadata": {
        "colab": {
          "base_uri": "https://localhost:8080/"
        },
        "id": "ZL6FZFjqgqhX",
        "outputId": "06aaa26b-c3eb-41db-a28b-466a898c752b"
      },
      "outputs": [
        {
          "name": "stdout",
          "output_type": "stream",
          "text": [
            "94/94 [==============================] - 3s 19ms/step\n",
            "16/16 [==============================] - 0s 9ms/step\n"
          ]
        }
      ],
      "source": [
        "norm_hid_rep = hidden_representation.predict(x_norm[:3000])\n",
        "\n",
        "fraud_hid_rep = hidden_representation.predict(x_fraud)"
      ]
    },
    {
      "cell_type": "markdown",
      "metadata": {
        "id": "zBtvEJM0hB1d"
      },
      "source": [
        "## Getting the representation data"
      ]
    },
    {
      "cell_type": "code",
      "execution_count": 35,
      "metadata": {
        "id": "ER6ffD1WgteH"
      },
      "outputs": [],
      "source": [
        "rep_x = np.append(norm_hid_rep, fraud_hid_rep, axis = 0)   # combining both objects by columns\n",
        "\n",
        "y_n = np.zeros(norm_hid_rep.shape[0])\n",
        "y_f = np.ones(fraud_hid_rep.shape[0])\n",
        "\n",
        "rep_y = np.append(y_n, y_f)"
      ]
    },
    {
      "cell_type": "markdown",
      "metadata": {
        "id": "WQxWk86Rg79N"
      },
      "source": [
        "## Train, Test, Split"
      ]
    },
    {
      "cell_type": "code",
      "execution_count": 36,
      "metadata": {
        "id": "AlVQT5xzgwDh"
      },
      "outputs": [],
      "source": [
        "train_x, val_x, train_y, val_y = train_test_split(rep_x, rep_y, test_size=0.25)"
      ]
    },
    {
      "cell_type": "markdown",
      "metadata": {
        "id": "6jbTHSfXg4Sl"
      },
      "source": [
        "## Credit Card Fraud Detection Prediction model"
      ]
    },
    {
      "cell_type": "code",
      "execution_count": 37,
      "metadata": {
        "colab": {
          "base_uri": "https://localhost:8080/"
        },
        "id": "c_EhTzrNgyXu",
        "outputId": "5799780c-85d1-4374-fc76-92f1ffbce0f1"
      },
      "outputs": [],
      "source": [
        "clf = LogisticRegression(solver=\"lbfgs\").fit(train_x, train_y)\n"
      ]
    },
    {
      "cell_type": "code",
      "execution_count": 38,
      "metadata": {},
      "outputs": [
        {
          "name": "stdout",
          "output_type": "stream",
          "text": [
            "\n",
            "Classification Report: \n",
            "              precision    recall  f1-score   support\n",
            "\n",
            "         0.0       0.95      1.00      0.98       735\n",
            "         1.0       1.00      0.75      0.85       138\n",
            "\n",
            "    accuracy                           0.96       873\n",
            "   macro avg       0.98      0.87      0.92       873\n",
            "weighted avg       0.96      0.96      0.96       873\n",
            "\n",
            "\n",
            "Accuracy Score:  0.9599083619702177\n"
          ]
        }
      ],
      "source": [
        "pred_y = clf.predict(val_x)\n",
        "\n",
        "print (\"\")\n",
        "print (\"Classification Report: \")\n",
        "print (classification_report(val_y, pred_y))\n",
        "\n",
        "print (\"\")\n",
        "print (\"Accuracy Score: \", accuracy_score(val_y, pred_y))"
      ]
    }
  ],
  "metadata": {
    "accelerator": "GPU",
    "colab": {
      "gpuType": "T4",
      "provenance": []
    },
    "gpuClass": "standard",
    "kernelspec": {
      "display_name": "Python 3",
      "name": "python3"
    },
    "language_info": {
      "name": "python"
    }
  },
  "nbformat": 4,
  "nbformat_minor": 0
}
